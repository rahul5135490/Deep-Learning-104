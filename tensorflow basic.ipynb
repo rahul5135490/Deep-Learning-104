{
 "cells": [
  {
   "cell_type": "code",
   "execution_count": 1,
   "id": "95cb030d",
   "metadata": {},
   "outputs": [],
   "source": [
    "import tensorflow as tf"
   ]
  },
  {
   "cell_type": "code",
   "execution_count": 2,
   "id": "2c024ff7",
   "metadata": {},
   "outputs": [],
   "source": [
    "# create a constant tensor A\n",
    "A=tf.constant([[4,6],\n",
    "               [6,1]])"
   ]
  },
  {
   "cell_type": "code",
   "execution_count": 5,
   "id": "9598dcab",
   "metadata": {},
   "outputs": [],
   "source": [
    "# create a constant tensor B\n",
    "B=tf.constant([[7,8],\n",
    "               [4,5]])"
   ]
  },
  {
   "cell_type": "code",
   "execution_count": 6,
   "id": "8321844b",
   "metadata": {},
   "outputs": [],
   "source": [
    "# create a Variable tensor V\n",
    "V=tf.Variable([[3,1],\n",
    "               [5,2]])\n"
   ]
  },
  {
   "cell_type": "code",
   "execution_count": 9,
   "id": "f6df78b9",
   "metadata": {},
   "outputs": [
    {
     "data": {
      "text/plain": [
       "<tf.Tensor: shape=(2, 2), dtype=int32, numpy=\n",
       "array([[7, 8],\n",
       "       [4, 5]])>"
      ]
     },
     "execution_count": 9,
     "metadata": {},
     "output_type": "execute_result"
    }
   ],
   "source": [
    "\n",
    "B\n"
   ]
  },
  {
   "cell_type": "code",
   "execution_count": 11,
   "id": "d167699f",
   "metadata": {},
   "outputs": [],
   "source": [
    "# Concatinate columns\n",
    "AB_concatinated= tf.concat(values=[A,B], axis=1)"
   ]
  },
  {
   "cell_type": "code",
   "execution_count": 12,
   "id": "b723b151",
   "metadata": {},
   "outputs": [
    {
     "data": {
      "text/plain": [
       "<tf.Tensor: shape=(2, 4), dtype=int32, numpy=\n",
       "array([[4, 6, 7, 8],\n",
       "       [6, 1, 4, 5]])>"
      ]
     },
     "execution_count": 12,
     "metadata": {},
     "output_type": "execute_result"
    }
   ],
   "source": [
    "AB_concatinated"
   ]
  },
  {
   "cell_type": "code",
   "execution_count": 13,
   "id": "aaa761f7",
   "metadata": {},
   "outputs": [],
   "source": [
    "AB_concatinated= tf.concat(values=[A,B], axis=0)"
   ]
  },
  {
   "cell_type": "code",
   "execution_count": 14,
   "id": "499b44f1",
   "metadata": {},
   "outputs": [
    {
     "data": {
      "text/plain": [
       "<tf.Tensor: shape=(4, 2), dtype=int32, numpy=\n",
       "array([[4, 6],\n",
       "       [6, 1],\n",
       "       [7, 8],\n",
       "       [4, 5]])>"
      ]
     },
     "execution_count": 14,
     "metadata": {},
     "output_type": "execute_result"
    }
   ],
   "source": [
    "AB_concatinated"
   ]
  },
  {
   "cell_type": "code",
   "execution_count": null,
   "id": "c0321618",
   "metadata": {},
   "outputs": [],
   "source": []
  }
 ],
 "metadata": {
  "kernelspec": {
   "display_name": "Python 3 (ipykernel)",
   "language": "python",
   "name": "python3"
  },
  "language_info": {
   "codemirror_mode": {
    "name": "ipython",
    "version": 3
   },
   "file_extension": ".py",
   "mimetype": "text/x-python",
   "name": "python",
   "nbconvert_exporter": "python",
   "pygments_lexer": "ipython3",
   "version": "3.9.13"
  }
 },
 "nbformat": 4,
 "nbformat_minor": 5
}
